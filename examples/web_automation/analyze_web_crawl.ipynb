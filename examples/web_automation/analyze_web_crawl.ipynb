{
 "cells": [
  {
   "cell_type": "code",
   "execution_count": 1,
   "metadata": {},
   "outputs": [],
   "source": [
    "import pandas as pd\n",
    "import json\n",
    "import glob\n"
   ]
  },
  {
   "cell_type": "markdown",
   "metadata": {},
   "source": [
    "- Uses data from ICWSM 2024 paper Machine-Made Media: Monitoring the Mobilization of Machine-GeneratedArticles on Misinformation and Mainstream News Websites"
   ]
  },
  {
   "cell_type": "code",
   "execution_count": 2,
   "metadata": {},
   "outputs": [
    {
     "name": "stdout",
     "output_type": "stream",
     "text": [
      "Reliable domains: 2015\n",
      "Unreliable domains: 1059\n"
     ]
    }
   ],
   "source": [
    "def read_domain_list(domains_file):\n",
    "    domains = set()\n",
    "    for line in open(domains_file):\n",
    "        line = line.strip()\n",
    "        if line.startswith(\"#\") or not line:\n",
    "            continue\n",
    "        domains.add(line)\n",
    "    return domains\n",
    "\n",
    "reliable_domains = read_domain_list(\"reliable_domains.txt\")\n",
    "unreliable_domains = read_domain_list(\"unreliable_domains.txt\")\n",
    "print(f\"Reliable domains: {len(reliable_domains)}\")\n",
    "print(f\"Unreliable domains: {len(unreliable_domains)}\")"
   ]
  },
  {
   "cell_type": "code",
   "execution_count": 3,
   "metadata": {},
   "outputs": [
    {
     "data": {
      "text/html": [
       "<div>\n",
       "<style scoped>\n",
       "    .dataframe tbody tr th:only-of-type {\n",
       "        vertical-align: middle;\n",
       "    }\n",
       "\n",
       "    .dataframe tbody tr th {\n",
       "        vertical-align: top;\n",
       "    }\n",
       "\n",
       "    .dataframe thead th {\n",
       "        text-align: right;\n",
       "    }\n",
       "</style>\n",
       "<table border=\"1\" class=\"dataframe\">\n",
       "  <thead>\n",
       "    <tr style=\"text-align: right;\">\n",
       "      <th></th>\n",
       "      <th>load_time</th>\n",
       "      <th>test_url</th>\n",
       "      <th>final_url</th>\n",
       "      <th>title</th>\n",
       "      <th>page_source</th>\n",
       "      <th>inner_text</th>\n",
       "      <th>error</th>\n",
       "      <th>page_menu</th>\n",
       "      <th>privacy_report</th>\n",
       "      <th>cert_details</th>\n",
       "      <th>reliable</th>\n",
       "      <th>site</th>\n",
       "      <th>json_file</th>\n",
       "      <th>page_source_len</th>\n",
       "      <th>inner_text_len</th>\n",
       "      <th>inner_text_256</th>\n",
       "    </tr>\n",
       "  </thead>\n",
       "  <tbody>\n",
       "    <tr>\n",
       "      <th>0</th>\n",
       "      <td>4181.220</td>\n",
       "      <td>https://davejanda.com</td>\n",
       "      <td>https://davejanda.com/</td>\n",
       "      <td>Operation Freedom – Dream Big And Dare To Fail</td>\n",
       "      <td>&lt;html lang=\"en-US\" class=\" csstransforms csstr...</td>\n",
       "      <td>Skip to content\\n\\nLATEST PREMIUM ACCESS CONTE...</td>\n",
       "      <td></td>\n",
       "      <td>[Edit, Button, Page Menu, Header, Done, Button...</td>\n",
       "      <td>[Privacy Report, Button, davejanda.com, Header...</td>\n",
       "      <td>[Connection Security Details, Header, Done, Bu...</td>\n",
       "      <td>False</td>\n",
       "      <td>davejanda.com</td>\n",
       "      <td>data_lockdown_enabled/davejanda.com_20250411_0...</td>\n",
       "      <td>701666</td>\n",
       "      <td>5558</td>\n",
       "      <td>Skip to content\\n\\nLATEST PREMIUM ACCESS CONTE...</td>\n",
       "    </tr>\n",
       "    <tr>\n",
       "      <th>1</th>\n",
       "      <td>1962.016</td>\n",
       "      <td>https://alternet.org</td>\n",
       "      <td>https://www.alternet.org/</td>\n",
       "      <td>Alternet.org</td>\n",
       "      <td>&lt;html lang=\"en\"&gt;&lt;head prefix=\"og: https://ogp....</td>\n",
       "      <td>\\nSCIENCE &amp; HEALTHBELIEFCULTUREVIDEOECONOMYRIG...</td>\n",
       "      <td></td>\n",
       "      <td>[Edit, Button, Page Menu, Header, Done, Button...</td>\n",
       "      <td>[Privacy Report, Button, alternet.org, Header,...</td>\n",
       "      <td>[Connection Security Details, Header, Done, Bu...</td>\n",
       "      <td>True</td>\n",
       "      <td>alternet.org</td>\n",
       "      <td>data_lockdown_enabled/alternet.org_20250411_03...</td>\n",
       "      <td>832718</td>\n",
       "      <td>4400</td>\n",
       "      <td>\\nSCIENCE &amp; HEALTHBELIEFCULTUREVIDEOECONOMYRIG...</td>\n",
       "    </tr>\n",
       "    <tr>\n",
       "      <th>2</th>\n",
       "      <td>2365.952</td>\n",
       "      <td>https://cincinnati.com</td>\n",
       "      <td>https://eu.cincinnati.com/</td>\n",
       "      <td>Home</td>\n",
       "      <td>&lt;html lang=\"en\" style=\"--color-theme: #009BFF;...</td>\n",
       "      <td>Skip to main content\\n\\n\\n \\nWhy it's time to ...</td>\n",
       "      <td></td>\n",
       "      <td>[Edit, Button, Page Menu, Header, Done, Button...</td>\n",
       "      <td>[]</td>\n",
       "      <td>[Connection Security Details, Header, Done, Bu...</td>\n",
       "      <td>True</td>\n",
       "      <td>cincinnati.com</td>\n",
       "      <td>data_lockdown_enabled/cincinnati.com_20250411_...</td>\n",
       "      <td>218405</td>\n",
       "      <td>2467</td>\n",
       "      <td>Skip to main content\\n\\n\\n \\nWhy it's time to ...</td>\n",
       "    </tr>\n",
       "    <tr>\n",
       "      <th>3</th>\n",
       "      <td>7676.654</td>\n",
       "      <td>https://ufochroniclespodcast.com</td>\n",
       "      <td>https://ufochroniclespodcast.com/</td>\n",
       "      <td>Landing Page - UFO CHRONICLES PODCAST</td>\n",
       "      <td>&lt;html lang=\"en-US\" class=\"\" style=\"cursor: poi...</td>\n",
       "      <td>\\n[podcast_subscribe id=\"25768\"]\\n\\nWelcome to...</td>\n",
       "      <td></td>\n",
       "      <td>[Edit, Button, Page Menu, Header, Done, Button...</td>\n",
       "      <td>[Privacy Report, Button, ufochroniclespodcast....</td>\n",
       "      <td>[Connection Security Details, Header, Done, Bu...</td>\n",
       "      <td>False</td>\n",
       "      <td>ufochroniclespodcast.com</td>\n",
       "      <td>data_lockdown_enabled/ufochroniclespodcast.com...</td>\n",
       "      <td>118141</td>\n",
       "      <td>201</td>\n",
       "      <td>\\n[podcast_subscribe id=\"25768\"]\\n\\nWelcome to...</td>\n",
       "    </tr>\n",
       "    <tr>\n",
       "      <th>4</th>\n",
       "      <td>3186.722</td>\n",
       "      <td>https://wsvn.com</td>\n",
       "      <td>https://wsvn.com/</td>\n",
       "      <td>Home - WSVN 7News | Miami News, Weather, Sport...</td>\n",
       "      <td>&lt;html lang=\"en-US\" class=\"js\"&gt;&lt;head&gt;&lt;script ty...</td>\n",
       "      <td>Skip to content\\nWSVN 7News | Miami News, Weat...</td>\n",
       "      <td></td>\n",
       "      <td>[Edit, Button, Page Menu, Header, Done, Button...</td>\n",
       "      <td>[Privacy Report, Button, wsvn.com, Header, TRA...</td>\n",
       "      <td>[Connection Security Details, Header, Done, Bu...</td>\n",
       "      <td>True</td>\n",
       "      <td>wsvn.com</td>\n",
       "      <td>data_lockdown_enabled/wsvn.com_20250411_034746...</td>\n",
       "      <td>1005714</td>\n",
       "      <td>8393</td>\n",
       "      <td>Skip to content\\nWSVN 7News | Miami News, Weat...</td>\n",
       "    </tr>\n",
       "  </tbody>\n",
       "</table>\n",
       "</div>"
      ],
      "text/plain": [
       "   load_time                          test_url  \\\n",
       "0   4181.220             https://davejanda.com   \n",
       "1   1962.016              https://alternet.org   \n",
       "2   2365.952            https://cincinnati.com   \n",
       "3   7676.654  https://ufochroniclespodcast.com   \n",
       "4   3186.722                  https://wsvn.com   \n",
       "\n",
       "                           final_url  \\\n",
       "0             https://davejanda.com/   \n",
       "1          https://www.alternet.org/   \n",
       "2         https://eu.cincinnati.com/   \n",
       "3  https://ufochroniclespodcast.com/   \n",
       "4                  https://wsvn.com/   \n",
       "\n",
       "                                               title  \\\n",
       "0     Operation Freedom – Dream Big And Dare To Fail   \n",
       "1                                       Alternet.org   \n",
       "2                                               Home   \n",
       "3              Landing Page - UFO CHRONICLES PODCAST   \n",
       "4  Home - WSVN 7News | Miami News, Weather, Sport...   \n",
       "\n",
       "                                         page_source  \\\n",
       "0  <html lang=\"en-US\" class=\" csstransforms csstr...   \n",
       "1  <html lang=\"en\"><head prefix=\"og: https://ogp....   \n",
       "2  <html lang=\"en\" style=\"--color-theme: #009BFF;...   \n",
       "3  <html lang=\"en-US\" class=\"\" style=\"cursor: poi...   \n",
       "4  <html lang=\"en-US\" class=\"js\"><head><script ty...   \n",
       "\n",
       "                                          inner_text error  \\\n",
       "0  Skip to content\\n\\nLATEST PREMIUM ACCESS CONTE...         \n",
       "1  \\nSCIENCE & HEALTHBELIEFCULTUREVIDEOECONOMYRIG...         \n",
       "2  Skip to main content\\n\\n\\n \\nWhy it's time to ...         \n",
       "3  \\n[podcast_subscribe id=\"25768\"]\\n\\nWelcome to...         \n",
       "4  Skip to content\\nWSVN 7News | Miami News, Weat...         \n",
       "\n",
       "                                           page_menu  \\\n",
       "0  [Edit, Button, Page Menu, Header, Done, Button...   \n",
       "1  [Edit, Button, Page Menu, Header, Done, Button...   \n",
       "2  [Edit, Button, Page Menu, Header, Done, Button...   \n",
       "3  [Edit, Button, Page Menu, Header, Done, Button...   \n",
       "4  [Edit, Button, Page Menu, Header, Done, Button...   \n",
       "\n",
       "                                      privacy_report  \\\n",
       "0  [Privacy Report, Button, davejanda.com, Header...   \n",
       "1  [Privacy Report, Button, alternet.org, Header,...   \n",
       "2                                                 []   \n",
       "3  [Privacy Report, Button, ufochroniclespodcast....   \n",
       "4  [Privacy Report, Button, wsvn.com, Header, TRA...   \n",
       "\n",
       "                                        cert_details  reliable  \\\n",
       "0  [Connection Security Details, Header, Done, Bu...     False   \n",
       "1  [Connection Security Details, Header, Done, Bu...      True   \n",
       "2  [Connection Security Details, Header, Done, Bu...      True   \n",
       "3  [Connection Security Details, Header, Done, Bu...     False   \n",
       "4  [Connection Security Details, Header, Done, Bu...      True   \n",
       "\n",
       "                       site  \\\n",
       "0             davejanda.com   \n",
       "1              alternet.org   \n",
       "2            cincinnati.com   \n",
       "3  ufochroniclespodcast.com   \n",
       "4                  wsvn.com   \n",
       "\n",
       "                                           json_file  page_source_len  \\\n",
       "0  data_lockdown_enabled/davejanda.com_20250411_0...           701666   \n",
       "1  data_lockdown_enabled/alternet.org_20250411_03...           832718   \n",
       "2  data_lockdown_enabled/cincinnati.com_20250411_...           218405   \n",
       "3  data_lockdown_enabled/ufochroniclespodcast.com...           118141   \n",
       "4  data_lockdown_enabled/wsvn.com_20250411_034746...          1005714   \n",
       "\n",
       "   inner_text_len                                     inner_text_256  \n",
       "0            5558  Skip to content\\n\\nLATEST PREMIUM ACCESS CONTE...  \n",
       "1            4400  \\nSCIENCE & HEALTHBELIEFCULTUREVIDEOECONOMYRIG...  \n",
       "2            2467  Skip to main content\\n\\n\\n \\nWhy it's time to ...  \n",
       "3             201  \\n[podcast_subscribe id=\"25768\"]\\n\\nWelcome to...  \n",
       "4            8393  Skip to content\\nWSVN 7News | Miami News, Weat...  "
      ]
     },
     "execution_count": 3,
     "metadata": {},
     "output_type": "execute_result"
    }
   ],
   "source": [
    "df = pd.DataFrame()\n",
    "site_entries = []\n",
    "from os.path import basename\n",
    "for json_file in glob.glob('data_lockdown_enabled/*.json'):  # avoid /\n",
    "    # print(f\"Processing {json_file}\")\n",
    "    site_host = basename(json_file).split('_')[0]\n",
    "    site_data = json.loads(open(json_file).read())\n",
    "    if site_host in reliable_domains:\n",
    "        site_data['reliable'] = True\n",
    "    elif site_host in unreliable_domains:\n",
    "        site_data['reliable'] = False\n",
    "    else:\n",
    "        print(f\"ERROR: Unknown domain: {site_host}\")\n",
    "        site_data['reliable'] = None\n",
    "    # print(site_data.keys())\n",
    "    site_data['site'] = site_host\n",
    "    site_data['json_file'] = json_file\n",
    "    site_data['page_source_len'] = len(site_data['page_source'])\n",
    "    site_data['inner_text_len'] = len(site_data['inner_text'])\n",
    "    site_data['inner_text_256'] = site_data['inner_text'][:256]\n",
    "    # del site_data['page_source']\n",
    "    # del site_data['inner_text']\n",
    "    site_entries.append(site_data)\n",
    "\n",
    "df = pd.DataFrame(site_entries)\n",
    "df.head()"
   ]
  },
  {
   "cell_type": "code",
   "execution_count": 4,
   "metadata": {},
   "outputs": [],
   "source": [
    "\n",
    "def get_trackers_from_privacy_report(report):\n",
    "    found_tracker_header = False\n",
    "    trackers = []\n",
    "    for item in report:\n",
    "        # print(item)\n",
    "        if item == \"TRACKERS PREVENTED FROM PROFILING YOU, Header\":\n",
    "            found_tracker_header = True\n",
    "            continue\n",
    "        if not found_tracker_header: # skip the preamble\n",
    "            continue\n",
    "        if \", \" not in item:\n",
    "            print(f\"Unexpected line: {item}\")\n",
    "            continue\n",
    "        domain, entity = item.split(\", \")\n",
    "        trackers.append({\n",
    "            'domain': domain,\n",
    "            'entity': entity\n",
    "        })\n",
    "    return trackers\n",
    "\n",
    "\n",
    "df['trackers'] = df.privacy_report.map(get_trackers_from_privacy_report)\n",
    "df['n_trackers'] = df.trackers.map(lambda x: len(x))\n"
   ]
  },
  {
   "cell_type": "code",
   "execution_count": 5,
   "metadata": {},
   "outputs": [
    {
     "data": {
      "text/plain": [
       "96"
      ]
     },
     "execution_count": 5,
     "metadata": {},
     "output_type": "execute_result"
    }
   ],
   "source": [
    "len(df)"
   ]
  },
  {
   "cell_type": "code",
   "execution_count": 6,
   "metadata": {},
   "outputs": [
    {
     "data": {
      "text/plain": [
       "load_error\n",
       "                                                   80\n",
       "Blank page                                          3\n",
       "not available in your region                        3\n",
       "451: Unavailable due to legal reasons               2\n",
       "Safari can’t open the page                          2\n",
       "Oops, an error occurred                             1\n",
       "This blog may contain sensitive content.            1\n",
       "Verifying you are human                             1\n",
       "403 Forbidden\\n\\nopenresty                          1\n",
       "Sorry, you have been blocked                        1\n",
       "There has been a critical error on this website     1\n",
       "Name: count, dtype: int64"
      ]
     },
     "execution_count": 6,
     "metadata": {},
     "output_type": "execute_result"
    }
   ],
   "source": [
    "ERROR_MSGS = [\n",
    "    \"Safari can’t open the page\",\n",
    "    \"Oops, an error occurred\",\n",
    "    \"451: Unavailable due to legal reasons\",\n",
    "    \"403 Forbidden\\n\\nopenresty\",\n",
    "    \"There has been a critical error on this website\",\n",
    "    \"Sorry, you have been blocked\",\n",
    "    \"not available in your region\",\n",
    "    \"Verifying you are human\",\n",
    "    \"This blog may contain sensitive content.\",\n",
    "]\n",
    "\n",
    "df['load_error'] = \"\"\n",
    "for msg in ERROR_MSGS:\n",
    "    df.loc[df.inner_text_256.str.contains(msg), 'load_error'] = msg\n",
    "df.loc[df.inner_text_256 == \"\", 'load_error'] = \"Blank page\"\n",
    "df.load_error.value_counts()"
   ]
  },
  {
   "cell_type": "code",
   "execution_count": 7,
   "metadata": {},
   "outputs": [
    {
     "data": {
      "text/plain": [
       "array(['https://questlifefellowship.com',\n",
       "       'https://initiative-corona.info', 'https://kcra.com',\n",
       "       'https://postregister.com', 'https://frontiersman.com',\n",
       "       'https://libertyhangout.org', 'https://gishgallop.com',\n",
       "       'https://steadfastandloyal.com', 'https://wetheonepeople.com',\n",
       "       'https://lancastercourier.com', 'https://thelibertyloft.com',\n",
       "       'https://escapeallthesethings.com',\n",
       "       'https://homelandsecuritynewswire.com', 'https://pilotonline.com',\n",
       "       'https://wisn.com', 'https://americasnewssource.com'], dtype=object)"
      ]
     },
     "execution_count": 7,
     "metadata": {},
     "output_type": "execute_result"
    }
   ],
   "source": [
    "df[(df.load_error != \"\")].test_url.unique()"
   ]
  },
  {
   "cell_type": "code",
   "execution_count": 8,
   "metadata": {},
   "outputs": [
    {
     "data": {
      "text/plain": [
       "reliable\n",
       "False    40\n",
       "True     40\n",
       "Name: count, dtype: int64"
      ]
     },
     "execution_count": 8,
     "metadata": {},
     "output_type": "execute_result"
    }
   ],
   "source": [
    "df = df[(df.load_error == \"\")]\n",
    "df.reliable.value_counts()"
   ]
  },
  {
   "cell_type": "code",
   "execution_count": null,
   "metadata": {},
   "outputs": [
    {
     "name": "stdout",
     "output_type": "stream",
     "text": [
      "Reliable count: 40\n",
      "Unreliable count: 40\n",
      "Will drop 0 unreliable rows\n",
      "Reliable and Unreliable count after equalizing:\n"
     ]
    },
    {
     "data": {
      "text/plain": [
       "reliable\n",
       "False    40\n",
       "True     40\n",
       "Name: count, dtype: int64"
      ]
     },
     "execution_count": 9,
     "metadata": {},
     "output_type": "execute_result"
    }
   ],
   "source": [
    "reliable_count = df.reliable.value_counts()[True]\n",
    "unreliable_count = df.reliable.value_counts()[False]\n",
    "print(f\"Reliable count: {reliable_count}\")\n",
    "print(f\"Unreliable count: {unreliable_count}\")\n",
    "if reliable_count > unreliable_count:\n",
    "    print(f\"Will drop {reliable_count - unreliable_count} reliable rows\")\n",
    "    df = df.drop(df[df.reliable == True].sample(reliable_count - unreliable_count).index)\n",
    "else:\n",
    "    print(f\"Will drop {unreliable_count - reliable_count} unreliable rows\")\n",
    "    df = df.drop(df[df.reliable == False].sample(unreliable_count - reliable_count).index)\n",
    "print(f\"Reliable and Unreliable count after equalizing:\")\n",
    "df.reliable.value_counts()"
   ]
  },
  {
   "cell_type": "code",
   "execution_count": 10,
   "metadata": {},
   "outputs": [
    {
     "name": "stdout",
     "output_type": "stream",
     "text": [
      "Top tracker entities:\n",
      "Google: 62\n",
      "Cloudflare: 14\n",
      "Amazon.com: 13\n",
      "Facebook: 13\n",
      "Criteo: 11\n",
      "ID5: 10\n",
      "PubMatic: 10\n",
      "Twitter: 10\n",
      "WarnerMedia: 9\n",
      "The Trade Desk: 9\n",
      "\n",
      "Top tracker domains:\n",
      "google.com: 48\n",
      "google-analytics.com: 46\n",
      "googletagmanager.com: 44\n",
      "doubleclick.net: 38\n",
      "googlesyndication.com: 23\n",
      "cloudflare.com: 14\n",
      "amazon-adsystem.com: 13\n",
      "facebook.net: 12\n",
      "youtube.com: 11\n",
      "criteo.com: 11\n",
      "Total sites: 80\n"
     ]
    }
   ],
   "source": [
    "# find the most common trackers\n",
    "from collections import defaultdict, Counter\n",
    "\n",
    "\n",
    "def get_tracker_counts(df, ntop=10):\n",
    "    domain_counts = Counter()\n",
    "    entity_sites = defaultdict(set)\n",
    "    for site_url, tracker_list in df[[\"test_url\", \"trackers\"]].values:\n",
    "        # print(f\"Processing {site_url}\")\n",
    "        for tracker in tracker_list:\n",
    "            domain = tracker['domain']\n",
    "            domain_counts[domain] += 1\n",
    "            entity = tracker['entity']\n",
    "            entity_sites[entity].add(site_url)\n",
    "    # display a table of the counts\n",
    "    print(\"Top tracker entities:\")\n",
    "    entity_counts = {}\n",
    "    for entity, sites in entity_sites.items():\n",
    "        # print(f\"{entity}: {len(sites)}\")\n",
    "        entity_counts[entity] = len(sites)\n",
    "\n",
    "    entity_counts = sorted(entity_counts.items(), key=lambda x: x[1], reverse=True)\n",
    "    for entity, count in entity_counts[:ntop]:\n",
    "        print(f\"{entity}: {count}\")\n",
    "\n",
    "    print(\"\")\n",
    "    print(\"Top tracker domains:\")\n",
    "    for domain, count in domain_counts.most_common(ntop):\n",
    "        print(f\"{domain}: {count}\")\n",
    "    # return domain_counts\n",
    "\n",
    "# get_tracker_counts(df[df.reliable == True])\n",
    "# get_tracker_counts(df[df.reliable == False])\n",
    "get_tracker_counts(df)\n",
    "print(\"Total sites:\", len(df))\n"
   ]
  },
  {
   "cell_type": "code",
   "execution_count": 11,
   "metadata": {},
   "outputs": [
    {
     "name": "stdout",
     "output_type": "stream",
     "text": [
      "Top tracker entities:\n",
      "Google: 31\n",
      "Cloudflare: 12\n",
      "Criteo: 10\n",
      "Amazon.com: 10\n",
      "PubMatic: 9\n",
      "Facebook: 9\n",
      "ID5: 8\n",
      "The Trade Desk: 8\n",
      "WarnerMedia: 7\n",
      "Taboola: 7\n",
      "\n",
      "Top tracker domains:\n",
      "doubleclick.net: 28\n",
      "googletagmanager.com: 26\n",
      "google-analytics.com: 24\n",
      "google.com: 24\n",
      "googlesyndication.com: 12\n",
      "cloudflare.com: 12\n",
      "criteo.com: 10\n",
      "amazon-adsystem.com: 10\n",
      "pubmatic.com: 9\n",
      "id5-sync.com: 8\n"
     ]
    }
   ],
   "source": [
    "get_tracker_counts(df[df.reliable == True])\n"
   ]
  },
  {
   "cell_type": "code",
   "execution_count": 31,
   "metadata": {},
   "outputs": [
    {
     "name": "stdout",
     "output_type": "stream",
     "text": [
      "Top tracker entities:\n",
      "Google: 31\n",
      "Adscore: 5\n",
      "OneSignal: 5\n",
      "Facebook: 4\n",
      "Prospect One: 4\n",
      "PayPal: 3\n",
      "MGID: 3\n",
      "Amazon.com: 3\n",
      "Twitter: 3\n",
      "Intuit: 2\n",
      "\n",
      "Top tracker domains:\n",
      "google.com: 24\n",
      "google-analytics.com: 22\n",
      "googletagmanager.com: 18\n",
      "googlesyndication.com: 11\n",
      "doubleclick.net: 10\n",
      "youtube.com: 6\n",
      "adsco.re: 5\n",
      "onesignal.com: 5\n",
      "facebook.net: 4\n",
      "jsdelivr.net: 4\n"
     ]
    }
   ],
   "source": [
    "get_tracker_counts(df[df.reliable == False], 10)\n"
   ]
  },
  {
   "cell_type": "code",
   "execution_count": 13,
   "metadata": {},
   "outputs": [
    {
     "data": {
      "text/plain": [
       "<Axes: ylabel='n_trackers'>"
      ]
     },
     "execution_count": 13,
     "metadata": {},
     "output_type": "execute_result"
    },
    {
     "data": {
      "image/png": "[encoded data removed]",
      "text/plain": [
       "<Figure size 300x200 with 1 Axes>"
      ]
     },
     "metadata": {},
     "output_type": "display_data"
    }
   ],
   "source": [
    "import seaborn as sns\n",
    "import matplotlib.pyplot as plt\n",
    "# fig size\n",
    "plt.figure(figsize=(3, 2))\n",
    "# plot the number of trackers, vs reliable\n",
    "sns.set_theme(style=\"whitegrid\")\n",
    "\n",
    "sns.barplot(y=\"n_trackers\", hue=\"reliable\", data=df, palette=\"muted\")\n"
   ]
  },
  {
   "cell_type": "code",
   "execution_count": 14,
   "metadata": {},
   "outputs": [
    {
     "name": "stdout",
     "output_type": "stream",
     "text": [
      "Mean number of trackers per reliability:\n",
      "reliable\n",
      "False    4.4\n",
      "True     9.4\n",
      "Name: n_trackers, dtype: float64\n",
      "Median number of trackers per reliability:\n",
      "reliable\n",
      "False    3.0\n",
      "True     7.0\n",
      "Name: n_trackers, dtype: float64\n"
     ]
    }
   ],
   "source": [
    "# table median and mean num of trackers per reliability\n",
    "print(\"Mean number of trackers per reliability:\")\n",
    "print(df.groupby('reliable')['n_trackers'].mean())\n",
    "print(\"Median number of trackers per reliability:\")\n",
    "print(df.groupby('reliable')['n_trackers'].median())\n",
    "# table median and mean num of trackers per reliability\n"
   ]
  },
  {
   "cell_type": "code",
   "execution_count": 15,
   "metadata": {},
   "outputs": [
    {
     "name": "stdout",
     "output_type": "stream",
     "text": [
      "T-statistic: 3.193046402882847\n",
      "P-value: 0.002030765347530635\n"
     ]
    }
   ],
   "source": [
    "# check if the difference in means is significant\n",
    "from scipy import stats\n",
    "\n",
    "reliable = df[df.reliable == True].n_trackers\n",
    "unreliable = df[df.reliable == False].n_trackers\n",
    "t_stat, p_val = stats.ttest_ind(reliable, unreliable)\n",
    "print(f\"T-statistic: {t_stat}\")\n",
    "print(f\"P-value: {p_val}\")"
   ]
  },
  {
   "cell_type": "code",
   "execution_count": 16,
   "metadata": {},
   "outputs": [
    {
     "data": {
      "text/html": [
       "<div>\n",
       "<style scoped>\n",
       "    .dataframe tbody tr th:only-of-type {\n",
       "        vertical-align: middle;\n",
       "    }\n",
       "\n",
       "    .dataframe tbody tr th {\n",
       "        vertical-align: top;\n",
       "    }\n",
       "\n",
       "    .dataframe thead th {\n",
       "        text-align: right;\n",
       "    }\n",
       "</style>\n",
       "<table border=\"1\" class=\"dataframe\">\n",
       "  <thead>\n",
       "    <tr style=\"text-align: right;\">\n",
       "      <th></th>\n",
       "      <th>test_url</th>\n",
       "      <th>reliable</th>\n",
       "      <th>n_trackers</th>\n",
       "    </tr>\n",
       "  </thead>\n",
       "  <tbody>\n",
       "    <tr>\n",
       "      <th>54</th>\n",
       "      <td>https://jezebel.com</td>\n",
       "      <td>True</td>\n",
       "      <td>31</td>\n",
       "    </tr>\n",
       "    <tr>\n",
       "      <th>80</th>\n",
       "      <td>https://postandcourier.com</td>\n",
       "      <td>True</td>\n",
       "      <td>28</td>\n",
       "    </tr>\n",
       "    <tr>\n",
       "      <th>20</th>\n",
       "      <td>https://greeleytribune.com</td>\n",
       "      <td>True</td>\n",
       "      <td>26</td>\n",
       "    </tr>\n",
       "    <tr>\n",
       "      <th>75</th>\n",
       "      <td>https://skyhinews.com</td>\n",
       "      <td>True</td>\n",
       "      <td>24</td>\n",
       "    </tr>\n",
       "    <tr>\n",
       "      <th>27</th>\n",
       "      <td>https://twitchy.com</td>\n",
       "      <td>False</td>\n",
       "      <td>23</td>\n",
       "    </tr>\n",
       "    <tr>\n",
       "      <th>29</th>\n",
       "      <td>https://daily-journal.com</td>\n",
       "      <td>True</td>\n",
       "      <td>22</td>\n",
       "    </tr>\n",
       "    <tr>\n",
       "      <th>34</th>\n",
       "      <td>https://listverse.com</td>\n",
       "      <td>True</td>\n",
       "      <td>20</td>\n",
       "    </tr>\n",
       "    <tr>\n",
       "      <th>63</th>\n",
       "      <td>https://nbcphiladelphia.com</td>\n",
       "      <td>True</td>\n",
       "      <td>20</td>\n",
       "    </tr>\n",
       "    <tr>\n",
       "      <th>87</th>\n",
       "      <td>https://kgns.tv</td>\n",
       "      <td>True</td>\n",
       "      <td>19</td>\n",
       "    </tr>\n",
       "    <tr>\n",
       "      <th>4</th>\n",
       "      <td>https://wsvn.com</td>\n",
       "      <td>True</td>\n",
       "      <td>19</td>\n",
       "    </tr>\n",
       "  </tbody>\n",
       "</table>\n",
       "</div>"
      ],
      "text/plain": [
       "                       test_url  reliable  n_trackers\n",
       "54          https://jezebel.com      True          31\n",
       "80   https://postandcourier.com      True          28\n",
       "20   https://greeleytribune.com      True          26\n",
       "75        https://skyhinews.com      True          24\n",
       "27          https://twitchy.com     False          23\n",
       "29    https://daily-journal.com      True          22\n",
       "34        https://listverse.com      True          20\n",
       "63  https://nbcphiladelphia.com      True          20\n",
       "87              https://kgns.tv      True          19\n",
       "4              https://wsvn.com      True          19"
      ]
     },
     "execution_count": 16,
     "metadata": {},
     "output_type": "execute_result"
    }
   ],
   "source": [
    "df[['test_url', 'reliable', 'n_trackers']].sort_values('n_trackers', ascending=False).head(10)"
   ]
  },
  {
   "cell_type": "code",
   "execution_count": 17,
   "metadata": {},
   "outputs": [
    {
     "data": {
      "text/plain": [
       "reliable\n",
       "True     8\n",
       "False    5\n",
       "Name: count, dtype: int64"
      ]
     },
     "execution_count": 17,
     "metadata": {},
     "output_type": "execute_result"
    }
   ],
   "source": [
    "df[df.n_trackers == 0].reliable.value_counts()"
   ]
  },
  {
   "cell_type": "code",
   "execution_count": 18,
   "metadata": {},
   "outputs": [
    {
     "data": {
      "text/html": [
       "<div>\n",
       "<style scoped>\n",
       "    .dataframe tbody tr th:only-of-type {\n",
       "        vertical-align: middle;\n",
       "    }\n",
       "\n",
       "    .dataframe tbody tr th {\n",
       "        vertical-align: top;\n",
       "    }\n",
       "\n",
       "    .dataframe thead th {\n",
       "        text-align: right;\n",
       "    }\n",
       "</style>\n",
       "<table border=\"1\" class=\"dataframe\">\n",
       "  <thead>\n",
       "    <tr style=\"text-align: right;\">\n",
       "      <th></th>\n",
       "      <th>test_url</th>\n",
       "      <th>reliable</th>\n",
       "      <th>n_trackers</th>\n",
       "    </tr>\n",
       "  </thead>\n",
       "  <tbody>\n",
       "    <tr>\n",
       "      <th>68</th>\n",
       "      <td>https://insideclimatenews.org</td>\n",
       "      <td>True</td>\n",
       "      <td>0</td>\n",
       "    </tr>\n",
       "    <tr>\n",
       "      <th>71</th>\n",
       "      <td>https://therightstuff.biz</td>\n",
       "      <td>False</td>\n",
       "      <td>0</td>\n",
       "    </tr>\n",
       "    <tr>\n",
       "      <th>61</th>\n",
       "      <td>https://pix11.com</td>\n",
       "      <td>True</td>\n",
       "      <td>0</td>\n",
       "    </tr>\n",
       "    <tr>\n",
       "      <th>44</th>\n",
       "      <td>https://rationalground.com</td>\n",
       "      <td>False</td>\n",
       "      <td>0</td>\n",
       "    </tr>\n",
       "    <tr>\n",
       "      <th>55</th>\n",
       "      <td>https://tennessean.com</td>\n",
       "      <td>True</td>\n",
       "      <td>0</td>\n",
       "    </tr>\n",
       "    <tr>\n",
       "      <th>51</th>\n",
       "      <td>https://colorado911truth.org</td>\n",
       "      <td>False</td>\n",
       "      <td>0</td>\n",
       "    </tr>\n",
       "    <tr>\n",
       "      <th>47</th>\n",
       "      <td>https://sctimes.com</td>\n",
       "      <td>True</td>\n",
       "      <td>0</td>\n",
       "    </tr>\n",
       "    <tr>\n",
       "      <th>84</th>\n",
       "      <td>https://abc27.com</td>\n",
       "      <td>True</td>\n",
       "      <td>0</td>\n",
       "    </tr>\n",
       "    <tr>\n",
       "      <th>41</th>\n",
       "      <td>https://ocala.com</td>\n",
       "      <td>True</td>\n",
       "      <td>0</td>\n",
       "    </tr>\n",
       "    <tr>\n",
       "      <th>43</th>\n",
       "      <td>https://wearegreenbay.com</td>\n",
       "      <td>True</td>\n",
       "      <td>0</td>\n",
       "    </tr>\n",
       "    <tr>\n",
       "      <th>2</th>\n",
       "      <td>https://cincinnati.com</td>\n",
       "      <td>True</td>\n",
       "      <td>0</td>\n",
       "    </tr>\n",
       "    <tr>\n",
       "      <th>38</th>\n",
       "      <td>https://dcdirtylaundry.com</td>\n",
       "      <td>False</td>\n",
       "      <td>0</td>\n",
       "    </tr>\n",
       "    <tr>\n",
       "      <th>45</th>\n",
       "      <td>https://qalerts.net</td>\n",
       "      <td>False</td>\n",
       "      <td>0</td>\n",
       "    </tr>\n",
       "    <tr>\n",
       "      <th>81</th>\n",
       "      <td>https://altleft.news</td>\n",
       "      <td>False</td>\n",
       "      <td>1</td>\n",
       "    </tr>\n",
       "    <tr>\n",
       "      <th>14</th>\n",
       "      <td>https://911nwo.com</td>\n",
       "      <td>False</td>\n",
       "      <td>1</td>\n",
       "    </tr>\n",
       "    <tr>\n",
       "      <th>82</th>\n",
       "      <td>https://southbendtribune.com</td>\n",
       "      <td>True</td>\n",
       "      <td>1</td>\n",
       "    </tr>\n",
       "    <tr>\n",
       "      <th>40</th>\n",
       "      <td>https://brighteon.com</td>\n",
       "      <td>False</td>\n",
       "      <td>1</td>\n",
       "    </tr>\n",
       "    <tr>\n",
       "      <th>6</th>\n",
       "      <td>https://wingsoverscotland.com</td>\n",
       "      <td>False</td>\n",
       "      <td>1</td>\n",
       "    </tr>\n",
       "    <tr>\n",
       "      <th>5</th>\n",
       "      <td>https://pandemic.news</td>\n",
       "      <td>False</td>\n",
       "      <td>1</td>\n",
       "    </tr>\n",
       "    <tr>\n",
       "      <th>12</th>\n",
       "      <td>https://barenakedislam.com</td>\n",
       "      <td>False</td>\n",
       "      <td>2</td>\n",
       "    </tr>\n",
       "  </tbody>\n",
       "</table>\n",
       "</div>"
      ],
      "text/plain": [
       "                         test_url  reliable  n_trackers\n",
       "68  https://insideclimatenews.org      True           0\n",
       "71      https://therightstuff.biz     False           0\n",
       "61              https://pix11.com      True           0\n",
       "44     https://rationalground.com     False           0\n",
       "55         https://tennessean.com      True           0\n",
       "51   https://colorado911truth.org     False           0\n",
       "47            https://sctimes.com      True           0\n",
       "84              https://abc27.com      True           0\n",
       "41              https://ocala.com      True           0\n",
       "43      https://wearegreenbay.com      True           0\n",
       "2          https://cincinnati.com      True           0\n",
       "38     https://dcdirtylaundry.com     False           0\n",
       "45            https://qalerts.net     False           0\n",
       "81           https://altleft.news     False           1\n",
       "14             https://911nwo.com     False           1\n",
       "82   https://southbendtribune.com      True           1\n",
       "40          https://brighteon.com     False           1\n",
       "6   https://wingsoverscotland.com     False           1\n",
       "5           https://pandemic.news     False           1\n",
       "12     https://barenakedislam.com     False           2"
      ]
     },
     "execution_count": 18,
     "metadata": {},
     "output_type": "execute_result"
    }
   ],
   "source": [
    "df[['test_url', 'reliable', 'n_trackers']].sort_values('n_trackers', ascending=True).head(20)"
   ]
  },
  {
   "cell_type": "code",
   "execution_count": 19,
   "metadata": {},
   "outputs": [
    {
     "name": "stdout",
     "output_type": "stream",
     "text": [
      "reliable\n",
      "False    2978.738500\n",
      "True     3413.315675\n",
      "Name: load_time, dtype: float64\n"
     ]
    }
   ],
   "source": [
    "# compare page load time v reliability\n",
    "# sns.scatterplot(data=df, x='load_time', y='n_trackers', hue='reliable')\n",
    "print(df.groupby('reliable')['load_time'].mean())\n"
   ]
  },
  {
   "cell_type": "code",
   "execution_count": 20,
   "metadata": {},
   "outputs": [],
   "source": [
    "def get_issuer_names(cert_details):\n",
    "    issuer_names = []\n",
    "    assert \"This certificate is valid\" in cert_details\n",
    "    # get the index of \"Issued to\"\n",
    "    index_it = cert_details.index(\"Issued to\")\n",
    "    issued_to = cert_details[index_it+1]\n",
    "    index_st = cert_details.index(\"Signed by\")\n",
    "    signed_by = cert_details[index_st+1]\n",
    "    assert signed_by == issued_to\n",
    "    # print(f\"Issued to: {issued_to} {signed_by}\")\n",
    "    return signed_by\n",
    "    # for item in cert_details:\n",
    "    #     if item == \"Issued to\":\n",
    "    #         continue\n",
    "    #     if isinstance(cert, str):\n",
    "    #         cert = json.loads(cert)\n",
    "    #     if 'issuer' in cert:\n",
    "    #         issuer_names.append(cert['issuer'])\n",
    "    #     else:\n",
    "    #         issuer_names.append(\"\")\n",
    "    # return issuer_names\n",
    "# df.cert_0details.value_counts()\n",
    "df['cert_signer'] = df.cert_details.map(get_issuer_names)"
   ]
  },
  {
   "cell_type": "code",
   "execution_count": 21,
   "metadata": {},
   "outputs": [
    {
     "data": {
      "text/plain": [
       "ca_name\n",
       "Google           39\n",
       "Let's Encrypt    33\n",
       "GlobalSign        2\n",
       "Amazon            2\n",
       "Sectigo           2\n",
       "GoDaddy           1\n",
       "DigiCert          1\n",
       "Name: count, dtype: int64"
      ]
     },
     "execution_count": 21,
     "metadata": {},
     "output_type": "execute_result"
    }
   ],
   "source": [
    "CA_DICT = {\n",
    "    \"WE1\": \"Google\",\n",
    "    \"WR1\": \"Google\",\n",
    "    \"WR2\": \"Google\",\n",
    "    \"R10\": \"Let's Encrypt\",\n",
    "    \"R11\": \"Let's Encrypt\",\n",
    "    \"E5\": \"Let's Encrypt\",\n",
    "    \"E6\": \"Let's Encrypt\",\n",
    "    \"GlobalSign Atlas R3 DV TLS CA 2025 Q1\": \"GlobalSign\",\n",
    "    \"GlobalSign Atlas R3 DV TLS CA 2025 Q2\": \"GlobalSign\",\n",
    "    \"GlobalSign Atlas R3 DV TLS CA 2025 Q3\": \"GlobalSign\",\n",
    "    \"GlobalSign Atlas R3 DV TLS CA 2025 Q4\": \"GlobalSign\",\n",
    "    \"GlobalSign Atlas R3 DV TLS CA 2024 Q3\": \"GlobalSign\",\n",
    "    \"Sectigo RSA Domain Validation Secure Server CA\": \"Sectigo\",\n",
    "    \"DigiCert TLS RSA SHA256 2020 CA1\": \"DigiCert\",\n",
    "    \"Go Daddy Secure Certificate Authority - G2\": \"GoDaddy\",\n",
    "    \"Amazon RSA 2048 M02\": \"Amazon\",\n",
    "    # add more as needed\n",
    "}\n",
    "df['ca_name'] = df.cert_signer.map(lambda x: CA_DICT.get(x, x))\n",
    "df['ca_name'].value_counts()"
   ]
  },
  {
   "cell_type": "code",
   "execution_count": 22,
   "metadata": {},
   "outputs": [
    {
     "data": {
      "text/plain": [
       "ca_name\n",
       "Let's Encrypt    20\n",
       "Google           14\n",
       "GlobalSign        2\n",
       "Amazon            2\n",
       "Sectigo           1\n",
       "DigiCert          1\n",
       "Name: count, dtype: int64"
      ]
     },
     "execution_count": 22,
     "metadata": {},
     "output_type": "execute_result"
    }
   ],
   "source": [
    "df[df.reliable].ca_name.value_counts().sort_values(ascending=False).head(20)"
   ]
  },
  {
   "cell_type": "code",
   "execution_count": 23,
   "metadata": {},
   "outputs": [
    {
     "data": {
      "text/plain": [
       "ca_name\n",
       "Google           25\n",
       "Let's Encrypt    13\n",
       "GoDaddy           1\n",
       "Sectigo           1\n",
       "Name: count, dtype: int64"
      ]
     },
     "execution_count": 23,
     "metadata": {},
     "output_type": "execute_result"
    }
   ],
   "source": [
    "df[~df.reliable].ca_name.value_counts().sort_values(ascending=False).head(20)"
   ]
  },
  {
   "cell_type": "code",
   "execution_count": 24,
   "metadata": {},
   "outputs": [
    {
     "data": {
      "text/plain": [
       "array(['https://davejanda.com', 'https://pandemic.news',\n",
       "       'https://newsready.com', 'https://barenakedislam.com',\n",
       "       'https://defiantamerica.com', 'https://911nwo.com',\n",
       "       'https://lewrockwell.com', 'https://twisted.news',\n",
       "       'https://thebeltwayreport.com', 'https://twitchy.com',\n",
       "       'https://canadafreepress.com', 'https://redstatenation.com',\n",
       "       'https://dcdirtylaundry.com',\n",
       "       'https://americanconservativemovement.com',\n",
       "       'https://brighteon.com', 'https://campusinsanity.com',\n",
       "       'https://qalerts.net', 'https://renewedright.com',\n",
       "       'https://colorado911truth.org', 'https://therightstuff.biz',\n",
       "       'https://newssloth.com', 'https://conservativefreepress.com',\n",
       "       'https://altleft.news', 'https://theblacksphere.net'], dtype=object)"
      ]
     },
     "execution_count": 24,
     "metadata": {},
     "output_type": "execute_result"
    }
   ],
   "source": [
    "df[~df.reliable & (df.cert_signer == \"WE1\")].test_url.unique()"
   ]
  },
  {
   "cell_type": "code",
   "execution_count": 25,
   "metadata": {},
   "outputs": [
    {
     "data": {
      "text/plain": [
       "cert_signer\n",
       "WE1                                               35\n",
       "R10                                               14\n",
       "R11                                               10\n",
       "E6                                                 5\n",
       "E5                                                 4\n",
       "WR1                                                3\n",
       "Amazon RSA 2048 M02                                2\n",
       "Sectigo RSA Domain Validation Secure Server CA     2\n",
       "GlobalSign Atlas R3 DV TLS CA 2024 Q3              1\n",
       "Go Daddy Secure Certificate Authority - G2         1\n",
       "DigiCert TLS RSA SHA256 2020 CA1                   1\n",
       "WR2                                                1\n",
       "GlobalSign Atlas R3 DV TLS CA 2025 Q1              1\n",
       "Name: count, dtype: int64"
      ]
     },
     "execution_count": 25,
     "metadata": {},
     "output_type": "execute_result"
    }
   ],
   "source": [
    "df['cert_signer'].value_counts()"
   ]
  },
  {
   "cell_type": "code",
   "execution_count": 28,
   "metadata": {},
   "outputs": [
    {
     "data": {
      "text/plain": [
       "test_url\n",
       "https://skyhinews.com               1\n",
       "https://newamerica.org              1\n",
       "https://911truthout.blogspot.com    1\n",
       "https://qanonpress.wordpress.com    1\n",
       "https://postandcourier.com          1\n",
       "                                   ..\n",
       "https://ufochroniclespodcast.com    1\n",
       "https://wsvn.com                    1\n",
       "https://pandemic.news               1\n",
       "https://wingsoverscotland.com       1\n",
       "https://voiceofsandiego.org         1\n",
       "Name: count, Length: 80, dtype: int64"
      ]
     },
     "execution_count": 28,
     "metadata": {},
     "output_type": "execute_result"
    }
   ],
   "source": [
    "df.test_url.value_counts()"
   ]
  }
 ],
 "metadata": {
  "kernelspec": {
   "display_name": "Python 3",
   "language": "python",
   "name": "python3"
  },
  "language_info": {
   "codemirror_mode": {
    "name": "ipython",
    "version": 3
   },
   "file_extension": ".py",
   "mimetype": "text/x-python",
   "name": "python",
   "nbconvert_exporter": "python",
   "pygments_lexer": "ipython3",
   "version": "3.12.3"
  }
 },
 "nbformat": 4,
 "nbformat_minor": 2
}
